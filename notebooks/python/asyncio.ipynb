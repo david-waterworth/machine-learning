{
 "cells": [
  {
   "cell_type": "code",
   "execution_count": 1,
   "metadata": {},
   "outputs": [
    {
     "name": "stdout",
     "output_type": "stream",
     "text": [
      "Collecting aiohttp\n",
      "\u001b[?25l  Downloading https://files.pythonhosted.org/packages/4f/ac/a018334fb3302b69aa1418fc06208a6ebb13af4694cdd706fd43aa80d3fa/aiohttp-2.3.10-cp35-cp35m-manylinux1_x86_64.whl (649kB)\n",
      "\u001b[K    100% |################################| 655kB 9.8MB/s eta 0:00:01\n",
      "\u001b[?25hCollecting yarl>=1.0.0 (from aiohttp)\n",
      "\u001b[?25l  Downloading https://files.pythonhosted.org/packages/23/7d/41beef3b35c1836079fde8408aebfb3c0a24c6bf2e66078d351fc4cfa1ff/yarl-1.2.0-cp35-cp35m-manylinux1_x86_64.whl (252kB)\n",
      "\u001b[K    100% |################################| 256kB 10.7MB/s a 0:00:01\n",
      "\u001b[?25hCollecting idna-ssl>=1.0.0 (from aiohttp)\n",
      "  Downloading https://files.pythonhosted.org/packages/46/03/07c4894aae38b0de52b52586b24bf189bb83e4ddabfe2e2c8f2419eec6f4/idna-ssl-1.1.0.tar.gz\n",
      "Collecting multidict>=4.0.0 (from aiohttp)\n",
      "\u001b[?25l  Downloading https://files.pythonhosted.org/packages/13/fb/c354524db72408c60f9044b81491f0f3bac9d315279177ae51f4cfb340b5/multidict-4.4.2-cp35-cp35m-manylinux1_x86_64.whl (378kB)\n",
      "\u001b[K    100% |################################| 378kB 8.1MB/s ta 0:00:011\n",
      "\u001b[?25hCollecting chardet (from aiohttp)\n",
      "\u001b[?25l  Downloading https://files.pythonhosted.org/packages/bc/a9/01ffebfb562e4274b6487b4bb1ddec7ca55ec7510b22e4c51f14098443b8/chardet-3.0.4-py2.py3-none-any.whl (133kB)\n",
      "\u001b[K    100% |################################| 143kB 11.5MB/s a 0:00:01\n",
      "\u001b[?25hCollecting async-timeout>=1.2.0 (from aiohttp)\n",
      "  Downloading https://files.pythonhosted.org/packages/1d/b9/213521db2918b5b7f7df333a33ea3d38ba70ba705d9db6c29f0343c213ea/async_timeout-2.0.1-py3-none-any.whl\n",
      "Collecting idna>=2.0 (from yarl>=1.0.0->aiohttp)\n",
      "\u001b[?25l  Downloading https://files.pythonhosted.org/packages/4b/2a/0276479a4b3caeb8a8c1af2f8e4355746a97fab05a372e4a2c6a6b876165/idna-2.7-py2.py3-none-any.whl (58kB)\n",
      "\u001b[K    100% |################################| 61kB 7.5MB/s ta 0:00:01\n",
      "\u001b[?25hBuilding wheels for collected packages: idna-ssl\n",
      "  Running setup.py bdist_wheel for idna-ssl ... \u001b[?25ldone\n",
      "\u001b[?25h  Stored in directory: /home/mluser/.cache/pip/wheels/d3/00/b3/32d613e19e08a739751dd6bf998cfed277728f8b2127ad4eb7\n",
      "Successfully built idna-ssl\n",
      "Installing collected packages: idna, multidict, yarl, idna-ssl, chardet, async-timeout, aiohttp\n",
      "\u001b[33m  The script chardetect is installed in '/home/mluser/.local/bin' which is not on PATH.\n",
      "  Consider adding this directory to PATH or, if you prefer to suppress this warning, use --no-warn-script-location.\u001b[0m\n",
      "Successfully installed aiohttp-2.3.10 async-timeout-2.0.1 chardet-3.0.4 idna-2.7 idna-ssl-1.1.0 multidict-4.4.2 yarl-1.2.0\n",
      "Collecting aiofiles\n",
      "  Downloading https://files.pythonhosted.org/packages/cf/f2/a67a23bc0bb61d88f82aa7fb84a2fb5f278becfbdc038c5cbb36c31feaf1/aiofiles-0.4.0-py3-none-any.whl\n",
      "Installing collected packages: aiofiles\n",
      "Successfully installed aiofiles-0.4.0\n"
     ]
    }
   ],
   "source": [
    "import sys\n",
    "!{sys.executable} -m pip install --user aiohttp\n",
    "!{sys.executable} -m pip install --user aiofiles\n",
    "\n",
    "sys.path.append('/home/mluser/.local/lib/python3.5/site-packages')"
   ]
  },
  {
   "cell_type": "code",
   "execution_count": 2,
   "metadata": {},
   "outputs": [],
   "source": [
    "import aiohttp\n",
    "import aiofiles\n",
    "import asyncio\n",
    "import async_timeout\n",
    "import os\n",
    " \n",
    "async def download(session, url):\n",
    "    with async_timeout.timeout(10):\n",
    "        async with session.get(url) as response:\n",
    "            filename = os.path.basename(url)\n",
    "            async with aiofiles.open(filename, 'wb') as out:\n",
    "                while True:\n",
    "                    chunk = await response.content.read(1024)\n",
    "                    if not chunk:\n",
    "                        break\n",
    "                    await out.write(chunk)\n",
    "                await out.flush()\n",
    "            return await response.release()\n",
    " \n"
   ]
  },
  {
   "cell_type": "code",
   "execution_count": 3,
   "metadata": {},
   "outputs": [
    {
     "data": {
      "text/plain": [
       "<Task pending coro=<main() running at <ipython-input-3-2bd84a90b185>:1>>"
      ]
     },
     "execution_count": 3,
     "metadata": {},
     "output_type": "execute_result"
    }
   ],
   "source": [
    "async def main(loop):\n",
    "    urls = [\"http://www.irs.gov/pub/irs-pdf/f1040.pdf\",\n",
    "        \"http://www.irs.gov/pub/irs-pdf/f1040a.pdf\",\n",
    "        \"http://www.irs.gov/pub/irs-pdf/f1040ez.pdf\",\n",
    "        \"http://www.irs.gov/pub/irs-pdf/f1040es.pdf\",\n",
    "        \"http://www.irs.gov/pub/irs-pdf/f1040sb.pdf\"]\n",
    " \n",
    "    async with aiohttp.ClientSession(loop=loop) as session:\n",
    "        tasks = [download(session, url) for url in urls]\n",
    "        await asyncio.gather(*tasks)\n",
    "        \n",
    "loop = asyncio.get_event_loop()\n",
    "loop.create_task(main(loop))"
   ]
  },
  {
   "cell_type": "code",
   "execution_count": null,
   "metadata": {},
   "outputs": [],
   "source": []
  }
 ],
 "metadata": {
  "kernelspec": {
   "display_name": "Python 3",
   "language": "python",
   "name": "python3"
  },
  "language_info": {
   "codemirror_mode": {
    "name": "ipython",
    "version": 3
   },
   "file_extension": ".py",
   "mimetype": "text/x-python",
   "name": "python",
   "nbconvert_exporter": "python",
   "pygments_lexer": "ipython3",
   "version": "3.5.2"
  }
 },
 "nbformat": 4,
 "nbformat_minor": 2
}
